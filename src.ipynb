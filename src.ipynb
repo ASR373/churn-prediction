{
 "cells": [
  {
   "cell_type": "code",
   "execution_count": 5,
   "id": "c94a686e-2234-475e-8a50-3abd71b27681",
   "metadata": {},
   "outputs": [],
   "source": [
    "import warnings\n",
    "warnings.filterwarnings(\"ignore\", message=\"numpy.dtype size changed\")\n",
    "warnings.filterwarnings(\"ignore\", message=\"numpy.ufunc size changed\")\n",
    "\n",
    "import numpy as np\n",
    "import pandas as pd\n",
    "import os\n",
    "\n",
    "from sklearn import metrics\n",
    "from sklearn.model_selection import train_test_split, StratifiedShuffleSplit\n",
    "from sklearn.metrics import (\n",
    "    accuracy_score, classification_report, recall_score, confusion_matrix,\n",
    "    roc_auc_score, precision_score, f1_score, roc_curve, auc\n",
    ")\n",
    "from sklearn.preprocessing import OrdinalEncoder\n",
    "\n",
    "from catboost import CatBoostClassifier, Pool\n",
    "\n",
    "\n"
   ]
  },
  {
   "cell_type": "code",
   "execution_count": 6,
   "id": "fde27014-b854-43a1-aeb1-9b6da60c02ea",
   "metadata": {},
   "outputs": [],
   "source": [
    "################################################## Data Loading and Editing ##################################################\n",
    "\n",
    "data_path = \"WA_Fn-UseC_-Telco-Customer-Churn.csv\"\n",
    "df = pd.read_csv(data_path)\n",
    "\n"
   ]
  },
  {
   "cell_type": "code",
   "execution_count": 8,
   "id": "526ab70e-f9b5-4061-84b6-efd123906767",
   "metadata": {},
   "outputs": [
    {
     "name": "stderr",
     "output_type": "stream",
     "text": [
      "/var/folders/9l/fxfr2_v53k3b0mgssmkzp1lh0000gn/T/ipykernel_1775/2848835266.py:3: FutureWarning: A value is trying to be set on a copy of a DataFrame or Series through chained assignment using an inplace method.\n",
      "The behavior will change in pandas 3.0. This inplace method will never work because the intermediate object on which we are setting values always behaves as a copy.\n",
      "\n",
      "For example, when doing 'df[col].method(value, inplace=True)', try using 'df.method({col: value}, inplace=True)' or df[col] = df[col].method(value) instead, to perform the operation inplace on the original object.\n",
      "\n",
      "\n",
      "  df['TotalCharges'].fillna(df['tenure'] * df['MonthlyCharges'], inplace=True)\n"
     ]
    }
   ],
   "source": [
    "# Convert TotalCharges to numeric, filling NaN values\n",
    "df['TotalCharges'] = pd.to_numeric(df['TotalCharges'], errors='coerce')\n",
    "df['TotalCharges'].fillna(df['tenure'] * df['MonthlyCharges'], inplace=True)\n",
    "\n"
   ]
  },
  {
   "cell_type": "code",
   "execution_count": 9,
   "id": "ed652036-a763-49cf-89cb-d6baf3257b46",
   "metadata": {},
   "outputs": [],
   "source": [
    "# Convert SeniorCitizen to object\n",
    "df['SeniorCitizen'] = df['SeniorCitizen'].astype(object)\n",
    "\n"
   ]
  },
  {
   "cell_type": "code",
   "execution_count": 10,
   "id": "1791bb68-244b-4ca2-abc3-cf37595222de",
   "metadata": {},
   "outputs": [],
   "source": [
    "# Replace 'No phone service' and 'No internet service' with 'No' for certain columns\n",
    "df['MultipleLines'] = df['MultipleLines'].replace('No phone service', 'No')\n",
    "columns_to_replace = ['OnlineSecurity', 'OnlineBackup', 'DeviceProtection', 'TechSupport', 'StreamingTV', 'StreamingMovies']\n",
    "for column in columns_to_replace:\n",
    "    df[column] = df[column].replace('No internet service', 'No')\n",
    "\n"
   ]
  },
  {
   "cell_type": "code",
   "execution_count": 11,
   "id": "3b82eb20-cb0a-4321-9b10-2742b5e3d4e4",
   "metadata": {},
   "outputs": [
    {
     "name": "stderr",
     "output_type": "stream",
     "text": [
      "/var/folders/9l/fxfr2_v53k3b0mgssmkzp1lh0000gn/T/ipykernel_1775/3002383514.py:2: FutureWarning: Downcasting behavior in `replace` is deprecated and will be removed in a future version. To retain the old behavior, explicitly call `result.infer_objects(copy=False)`. To opt-in to the future behavior, set `pd.set_option('future.no_silent_downcasting', True)`\n",
      "  df['Churn'] = df['Churn'].replace({'No': 0, 'Yes': 1})\n"
     ]
    }
   ],
   "source": [
    "# Convert 'Churn' categorical variable to numeric\n",
    "df['Churn'] = df['Churn'].replace({'No': 0, 'Yes': 1})\n",
    "\n"
   ]
  },
  {
   "cell_type": "code",
   "execution_count": 12,
   "id": "f2a35d87-d3bf-4b5c-8d6c-edd74848859e",
   "metadata": {},
   "outputs": [],
   "source": [
    "################################################## StratifiedShuffleSplit ##################################################\n",
    "\n",
    "# Create the StratifiedShuffleSplit object\n",
    "strat_split = StratifiedShuffleSplit(n_splits=1, test_size=0.2, random_state=64)\n",
    "\n",
    "train_index, test_index = next(strat_split.split(df, df[\"Churn\"]))\n",
    "\n"
   ]
  },
  {
   "cell_type": "code",
   "execution_count": 13,
   "id": "7858ff06-0484-46b0-91a1-7d442013c488",
   "metadata": {},
   "outputs": [],
   "source": [
    "# Create train and test sets\n",
    "strat_train_set = df.loc[train_index]\n",
    "strat_test_set = df.loc[test_index]\n",
    "\n",
    "X_train = strat_train_set.drop(\"Churn\", axis=1)\n",
    "y_train = strat_train_set[\"Churn\"].copy()\n",
    "\n",
    "X_test = strat_test_set.drop(\"Churn\", axis=1)\n",
    "y_test = strat_test_set[\"Churn\"].copy()\n",
    "\n",
    "#"
   ]
  },
  {
   "cell_type": "code",
   "execution_count": 14,
   "id": "3bdfa35b-7e6a-4be9-9952-078a6e316452",
   "metadata": {},
   "outputs": [],
   "source": [
    "################################################# CATBOOST ##################################################\n",
    "\n",
    "# Identify categorical columns\n",
    "categorical_columns = df.select_dtypes(include=['object']).columns.tolist()\n",
    "\n"
   ]
  },
  {
   "cell_type": "code",
   "execution_count": 15,
   "id": "016c0ab2-6fa8-446b-9c74-2a85a62e46fb",
   "metadata": {},
   "outputs": [
    {
     "data": {
      "text/plain": [
       "<catboost.core.CatBoostClassifier at 0x13ae9de20>"
      ]
     },
     "execution_count": 15,
     "metadata": {},
     "output_type": "execute_result"
    }
   ],
   "source": [
    "# Initialize and fit CatBoostClassifier\n",
    "cat_model = CatBoostClassifier(verbose=False, random_state=0, scale_pos_weight=3)\n",
    "cat_model.fit(X_train, y_train, cat_features=categorical_columns, eval_set=(X_test, y_test))\n",
    "\n"
   ]
  },
  {
   "cell_type": "code",
   "execution_count": 16,
   "id": "caaf1302-718f-41da-b53b-54efb2add383",
   "metadata": {},
   "outputs": [],
   "source": [
    "# Predict on test set\n",
    "y_pred = cat_model.predict(X_test)\n",
    "\n"
   ]
  },
  {
   "cell_type": "code",
   "execution_count": 17,
   "id": "48e7b143-88a2-44c6-8d8c-41a2cf632b32",
   "metadata": {},
   "outputs": [],
   "source": [
    "# Calculate evaluation metrics\n",
    "accuracy, recall, roc_auc, precision = [round(metric(y_test, y_pred), 4) for metric in [accuracy_score, recall_score, roc_auc_score, precision_score]]\n",
    "\n"
   ]
  },
  {
   "cell_type": "code",
   "execution_count": 18,
   "id": "04a2458b-3ba4-4459-a6db-b3bcfa349503",
   "metadata": {},
   "outputs": [],
   "source": [
    "# Create a DataFrame to store results\n",
    "model_names = ['CatBoost_Model']\n",
    "result = pd.DataFrame({'Accuracy': accuracy, 'Recall': recall, 'Roc_Auc': roc_auc, 'Precision': precision}, index=model_names)\n",
    "\n"
   ]
  },
  {
   "cell_type": "code",
   "execution_count": 19,
   "id": "9f6a8068-9a72-4ec8-af20-4af5efb32d89",
   "metadata": {},
   "outputs": [
    {
     "name": "stdout",
     "output_type": "stream",
     "text": [
      "                Accuracy  Recall  Roc_Auc  Precision\n",
      "CatBoost_Model    0.7885  0.8369    0.804     0.5691\n"
     ]
    }
   ],
   "source": [
    "# Print results\n",
    "print(result)\n",
    "\n"
   ]
  },
  {
   "cell_type": "code",
   "execution_count": 20,
   "id": "5a5676cd-c325-4ffc-ae4b-4ee15dbb431c",
   "metadata": {},
   "outputs": [],
   "source": [
    "# Save the model in the 'model' directory\n",
    "model_dir = \"../model\"\n",
    "if not os.path.exists(model_dir):\n",
    "    os.makedirs(model_dir)\n",
    "\n",
    "model_path = os.path.join(model_dir, \"catboost_model.cbm\")\n",
    "cat_model.save_model(model_path)"
   ]
  },
  {
   "cell_type": "code",
   "execution_count": 21,
   "id": "099f243f-d132-4872-b7eb-f5ec1ed040f0",
   "metadata": {},
   "outputs": [
    {
     "name": "stdout",
     "output_type": "stream",
     "text": [
      "Parquet file saved to: ../data/churn_data_regulated.parquet\n"
     ]
    }
   ],
   "source": [
    "import pandas as pd\n",
    "\n",
    "# Path to your CSV file\n",
    "csv_file_path = '../data/WA_Fn-UseC_-Telco-Customer-Churn.csv'\n",
    "\n",
    "# Path where you want to save the Parquet file\n",
    "parquet_file_path = '../data/churn_data_regulated.parquet'\n",
    "\n",
    "# Load the CSV file\n",
    "df = pd.read_csv(csv_file_path)\n",
    "\n",
    "# Save to Parquet format\n",
    "df.to_parquet(parquet_file_path, engine='pyarrow')\n",
    "\n",
    "print(f\"Parquet file saved to: {parquet_file_path}\")\n"
   ]
  },
  {
   "cell_type": "code",
   "execution_count": null,
   "id": "f7d90ef5-ad1e-4a82-8a1b-b07ea88fef44",
   "metadata": {},
   "outputs": [],
   "source": []
  }
 ],
 "metadata": {
  "kernelspec": {
   "display_name": "Python 3 (ipykernel)",
   "language": "python",
   "name": "python3"
  },
  "language_info": {
   "codemirror_mode": {
    "name": "ipython",
    "version": 3
   },
   "file_extension": ".py",
   "mimetype": "text/x-python",
   "name": "python",
   "nbconvert_exporter": "python",
   "pygments_lexer": "ipython3",
   "version": "3.12.4"
  }
 },
 "nbformat": 4,
 "nbformat_minor": 5
}
